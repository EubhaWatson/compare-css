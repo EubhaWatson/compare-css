{
 "cells": [
  {
   "cell_type": "code",
   "execution_count": 1,
   "metadata": {},
   "outputs": [
    {
     "name": "stdout",
     "output_type": "stream",
     "text": [
      "Your file is written and ready.\n"
     ]
    }
   ],
   "source": [
    "import os\n",
    "import difflib\n",
    "\n",
    "def compare_css_files(dir):\n",
    "    results = []\n",
    "\n",
    "    # Walk through all files in the directory and its subdirectories\n",
    "    for root, dirs, files in os.walk(dir):\n",
    "        for file in files:\n",
    "            # Check if the file is a CSS file and exclude the reset code\n",
    "            if file.endswith(\".css\") and file != \"reset.css\" and file != \"modern-reset.css\":\n",
    "                # Read the contents of the CSS file\n",
    "                file_path = os.path.join(root, file)\n",
    "                with open(file_path, \"r\") as f:\n",
    "                    css1 = f.read()\n",
    "\n",
    "                # Compare the CSS file to all other CSS files\n",
    "                for root2, dirs2, files2 in os.walk(dir):\n",
    "                    for file2 in files2:\n",
    "                        if file2.endswith(\".css\") and file2 != \"reset.css\" and file2 != \"modern-reset.css\":\n",
    "                            file_path2 = os.path.join(root2, file2)\n",
    "                            with open(file_path2, \"r\") as f2:\n",
    "                                css2 = f2.read()\n",
    "\n",
    "                            # Calculate the percentage similarity\n",
    "                            if css1 != css2:\n",
    "                                s = difflib.SequenceMatcher(None, css1, css2)\n",
    "                                percentage = round(s.ratio() * 100, 2)\n",
    "\n",
    "                                # Add the result to the list\n",
    "                                results.append((file_path, file_path2, percentage))\n",
    "\n",
    "    # Sort the results by percentage similarity\n",
    "    results.sort(key=lambda x: x[2], reverse=True)\n",
    "\n",
    "    # Output the results to a text file\n",
    "    with open(\"/Users/watson/Desktop/results.txt\", \"w\") as f:\n",
    "        for result in results:\n",
    "            f.write(f\"{result[0]} and {result[1]}: {result[2]}%\\n\")\n",
    "            \n",
    "    #Let the user know it's done.\n",
    "    print(\"Your file is written and ready.\")\n",
    "\n",
    "# Main Input Loop\n",
    "check = 0\n",
    "\n",
    "while (check == 0):\n",
    "    # Prompt the user for a directory\n",
    "    dir = input(\"Enter the directory path: \")\n",
    "\n",
    "    # Make sure the directory exists\n",
    "    if not os.path.isdir(dir):\n",
    "        print(f\"Error: {dir} is not a valid directory.\")\n",
    "    else:\n",
    "        check = 1\n",
    "        # Try to compare the CSS files\n",
    "        try:\n",
    "            compare_css_files(dir)\n",
    "        except Exception as e:\n",
    "            print(f\"Error: {e}\")\n"
   ]
  }
 ],
 "metadata": {
  "kernelspec": {
   "display_name": "Python 3",
   "language": "python",
   "name": "python3"
  },
  "language_info": {
   "codemirror_mode": {
    "name": "ipython",
    "version": 3
   },
   "file_extension": ".py",
   "mimetype": "text/x-python",
   "name": "python",
   "nbconvert_exporter": "python",
   "pygments_lexer": "ipython3",
   "version": "3.9.6"
  },
  "vscode": {
   "interpreter": {
    "hash": "aee8b7b246df8f9039afb4144a1f6fd8d2ca17a180786b69acc140d282b71a49"
   }
  }
 },
 "nbformat": 4,
 "nbformat_minor": 4
}
